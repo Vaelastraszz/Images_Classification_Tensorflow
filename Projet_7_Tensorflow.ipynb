{
  "nbformat": 4,
  "nbformat_minor": 0,
  "metadata": {
    "colab": {
      "name": "Projet 7 Tensorflow.ipynb",
      "provenance": [],
      "include_colab_link": true
    },
    "kernelspec": {
      "name": "python3",
      "display_name": "Python 3"
    },
    "accelerator": "GPU"
  },
  "cells": [
    {
      "cell_type": "markdown",
      "metadata": {
        "id": "view-in-github",
        "colab_type": "text"
      },
      "source": [
        "<a href=\"https://colab.research.google.com/github/Vaelastraszz/Images_Classification_Tensorflow/blob/master/Projet_7_Tensorflow.ipynb\" target=\"_parent\"><img src=\"https://colab.research.google.com/assets/colab-badge.svg\" alt=\"Open In Colab\"/></a>"
      ]
    },
    {
      "cell_type": "code",
      "metadata": {
        "id": "eINCnEKwbR32",
        "colab_type": "code",
        "outputId": "0ac42be2-7597-4345-ac9d-c8b71fa5b96a",
        "colab": {
          "base_uri": "https://localhost:8080/",
          "height": 122
        }
      },
      "source": [
        "import sys\n",
        "import pandas as pd\n",
        "import matplotlib.pyplot as plt\n",
        "import numpy as np\n",
        "\n",
        "from google.colab import drive\n",
        "\n",
        "drive.mount('/content/gdrive')"
      ],
      "execution_count": 0,
      "outputs": [
        {
          "output_type": "stream",
          "text": [
            "Go to this URL in a browser: https://accounts.google.com/o/oauth2/auth?client_id=947318989803-6bn6qk8qdgf4n4g3pfee6491hc0brc4i.apps.googleusercontent.com&redirect_uri=urn%3Aietf%3Awg%3Aoauth%3A2.0%3Aoob&scope=email%20https%3A%2F%2Fwww.googleapis.com%2Fauth%2Fdocs.test%20https%3A%2F%2Fwww.googleapis.com%2Fauth%2Fdrive%20https%3A%2F%2Fwww.googleapis.com%2Fauth%2Fdrive.photos.readonly%20https%3A%2F%2Fwww.googleapis.com%2Fauth%2Fpeopleapi.readonly&response_type=code\n",
            "\n",
            "Enter your authorization code:\n",
            "··········\n",
            "Mounted at /content/gdrive\n"
          ],
          "name": "stdout"
        }
      ]
    },
    {
      "cell_type": "code",
      "metadata": {
        "id": "aLfI3kFVbdco",
        "colab_type": "code",
        "outputId": "1b347189-b271-41ed-823f-58e720115236",
        "colab": {
          "base_uri": "https://localhost:8080/",
          "height": 34
        }
      },
      "source": [
        "from keras.models import Sequential\n",
        "from keras.layers import Conv2D, MaxPooling2D\n",
        "from keras.layers import Flatten, Dense, Dropout, BatchNormalization, GlobalAveragePooling2D\n",
        "from keras.applications.vgg16 import decode_predictions\n",
        "from keras.preprocessing.image import ImageDataGenerator\n"
      ],
      "execution_count": 0,
      "outputs": [
        {
          "output_type": "stream",
          "text": [
            "Using TensorFlow backend.\n"
          ],
          "name": "stderr"
        }
      ]
    },
    {
      "cell_type": "markdown",
      "metadata": {
        "id": "G8Ye0-JfZfzi",
        "colab_type": "text"
      },
      "source": [
        "<h2> Loading des données training/validation/test set <h2>"
      ]
    },
    {
      "cell_type": "markdown",
      "metadata": {
        "id": "Riupbxbfa8Qp",
        "colab_type": "text"
      },
      "source": [
        "<h3> Loading des données </h3>"
      ]
    },
    {
      "cell_type": "code",
      "metadata": {
        "id": "TCOrhDX5OpuM",
        "colab_type": "code",
        "colab": {}
      },
      "source": [
        "import os\n",
        "\n",
        "def get_images() :\n",
        "    \n",
        "    img_list = []\n",
        "    start_path = '/content/gdrive/My Drive/Dogs/Images/' # current directory\n",
        "    \n",
        "    for path,dirs,files in os.walk(start_path):\n",
        "        for filename in files:\n",
        "            img_list.append(os.path.join(path,filename))\n",
        "    \n",
        "    return img_list"
      ],
      "execution_count": 0,
      "outputs": []
    },
    {
      "cell_type": "code",
      "metadata": {
        "id": "zXeWz60FZsHL",
        "colab_type": "code",
        "colab": {}
      },
      "source": [
        "import re\n",
        "\n",
        "def get_labels(list_img):\n",
        "    \n",
        "    labels = []\n",
        "    \n",
        "    for i in range(len(list_img)):\n",
        "    \n",
        "        m = re.search('/content/gdrive/My Drive/Dogs/Images/(.+?)/', list_img[i])\n",
        "        if m:\n",
        "            found = m.group(1)\n",
        "    \n",
        "        labels.append(found[10:])\n",
        "    \n",
        "    return labels"
      ],
      "execution_count": 0,
      "outputs": []
    },
    {
      "cell_type": "code",
      "metadata": {
        "id": "OQHR71SrZyNb",
        "colab_type": "code",
        "colab": {}
      },
      "source": [
        "full_list = get_images()\n",
        "full_labels = get_labels(full_list)"
      ],
      "execution_count": 0,
      "outputs": []
    },
    {
      "cell_type": "code",
      "metadata": {
        "id": "eMax3kmQafp_",
        "colab_type": "code",
        "colab": {}
      },
      "source": [
        "full_labels"
      ],
      "execution_count": 0,
      "outputs": []
    },
    {
      "cell_type": "markdown",
      "metadata": {
        "id": "pw4DBOT4a3_R",
        "colab_type": "text"
      },
      "source": [
        "<h3> Splitting des set </h3>"
      ]
    },
    {
      "cell_type": "code",
      "metadata": {
        "id": "wJjwsA07bAFa",
        "colab_type": "code",
        "colab": {}
      },
      "source": [
        "from sklearn import model_selection"
      ],
      "execution_count": 0,
      "outputs": []
    },
    {
      "cell_type": "code",
      "metadata": {
        "id": "6dYj7Ly0a_RH",
        "colab_type": "code",
        "colab": {}
      },
      "source": [
        "X_train, X_test, y_train, y_test = model_selection.train_test_split(full_list, full_labels, test_size=0.2, random_state=1)\n",
        "X_train, X_val, y_train, y_val = model_selection.train_test_split(X_train, y_train, test_size=0.25, random_state=1)"
      ],
      "execution_count": 0,
      "outputs": []
    },
    {
      "cell_type": "code",
      "metadata": {
        "id": "27JvQLg5eyS5",
        "colab_type": "code",
        "outputId": "e04181d7-cbb3-4ceb-a1db-a3fd723c3469",
        "colab": {
          "base_uri": "https://localhost:8080/",
          "height": 153
        }
      },
      "source": [
        "np.array(X_train)"
      ],
      "execution_count": 0,
      "outputs": [
        {
          "output_type": "execute_result",
          "data": {
            "text/plain": [
              "array(['/content/gdrive/My Drive/Dogs/Images/n02099712-Labrador_retriever/n02099712_5021.jpg',\n",
              "       '/content/gdrive/My Drive/Dogs/Images/n02086646-Blenheim_spaniel/n02086646_946.jpg',\n",
              "       '/content/gdrive/My Drive/Dogs/Images/n02094433-Yorkshire_terrier/n02094433_2596.jpg',\n",
              "       ...,\n",
              "       '/content/gdrive/My Drive/Dogs/Images/n02097474-Tibetan_terrier/n02097474_7766.jpg',\n",
              "       '/content/gdrive/My Drive/Dogs/Images/n02102040-English_springer/n02102040_251.jpg',\n",
              "       '/content/gdrive/My Drive/Dogs/Images/n02099601-golden_retriever/n02099601_7304.jpg'],\n",
              "      dtype='<U97')"
            ]
          },
          "metadata": {
            "tags": []
          },
          "execution_count": 9
        }
      ]
    },
    {
      "cell_type": "markdown",
      "metadata": {
        "id": "82CfaLq2mW7k",
        "colab_type": "text"
      },
      "source": [
        "<h3> Préparation en dataframes pour le datagen Keras </h3> "
      ]
    },
    {
      "cell_type": "code",
      "metadata": {
        "id": "9ziTdn3zmb2O",
        "colab_type": "code",
        "colab": {}
      },
      "source": [
        "train_df = pd.DataFrame({'path': X_train,'label':y_train})"
      ],
      "execution_count": 0,
      "outputs": []
    },
    {
      "cell_type": "code",
      "metadata": {
        "id": "jPb83ODzntNq",
        "colab_type": "code",
        "colab": {}
      },
      "source": [
        "val_df = pd.DataFrame({'path': X_val,'label':y_val})"
      ],
      "execution_count": 0,
      "outputs": []
    },
    {
      "cell_type": "code",
      "metadata": {
        "id": "hpei7CzNnwEV",
        "colab_type": "code",
        "colab": {}
      },
      "source": [
        "test_df = pd.DataFrame({'path': X_test,'label':y_test})"
      ],
      "execution_count": 0,
      "outputs": []
    },
    {
      "cell_type": "code",
      "metadata": {
        "id": "oAgZ4sTdoPs0",
        "colab_type": "code",
        "outputId": "4f337c7c-7481-4e94-f458-e4d6b7b65787",
        "colab": {
          "base_uri": "https://localhost:8080/",
          "height": 204
        }
      },
      "source": [
        "train_df.head()"
      ],
      "execution_count": 0,
      "outputs": [
        {
          "output_type": "execute_result",
          "data": {
            "text/html": [
              "<div>\n",
              "<style scoped>\n",
              "    .dataframe tbody tr th:only-of-type {\n",
              "        vertical-align: middle;\n",
              "    }\n",
              "\n",
              "    .dataframe tbody tr th {\n",
              "        vertical-align: top;\n",
              "    }\n",
              "\n",
              "    .dataframe thead th {\n",
              "        text-align: right;\n",
              "    }\n",
              "</style>\n",
              "<table border=\"1\" class=\"dataframe\">\n",
              "  <thead>\n",
              "    <tr style=\"text-align: right;\">\n",
              "      <th></th>\n",
              "      <th>path</th>\n",
              "      <th>label</th>\n",
              "    </tr>\n",
              "  </thead>\n",
              "  <tbody>\n",
              "    <tr>\n",
              "      <th>0</th>\n",
              "      <td>/content/gdrive/My Drive/Dogs/Images/n02099712...</td>\n",
              "      <td>Labrador_retriever</td>\n",
              "    </tr>\n",
              "    <tr>\n",
              "      <th>1</th>\n",
              "      <td>/content/gdrive/My Drive/Dogs/Images/n02086646...</td>\n",
              "      <td>Blenheim_spaniel</td>\n",
              "    </tr>\n",
              "    <tr>\n",
              "      <th>2</th>\n",
              "      <td>/content/gdrive/My Drive/Dogs/Images/n02094433...</td>\n",
              "      <td>Yorkshire_terrier</td>\n",
              "    </tr>\n",
              "    <tr>\n",
              "      <th>3</th>\n",
              "      <td>/content/gdrive/My Drive/Dogs/Images/n02109525...</td>\n",
              "      <td>Saint_Bernard</td>\n",
              "    </tr>\n",
              "    <tr>\n",
              "      <th>4</th>\n",
              "      <td>/content/gdrive/My Drive/Dogs/Images/n02096177...</td>\n",
              "      <td>cairn</td>\n",
              "    </tr>\n",
              "  </tbody>\n",
              "</table>\n",
              "</div>"
            ],
            "text/plain": [
              "                                                path               label\n",
              "0  /content/gdrive/My Drive/Dogs/Images/n02099712...  Labrador_retriever\n",
              "1  /content/gdrive/My Drive/Dogs/Images/n02086646...    Blenheim_spaniel\n",
              "2  /content/gdrive/My Drive/Dogs/Images/n02094433...   Yorkshire_terrier\n",
              "3  /content/gdrive/My Drive/Dogs/Images/n02109525...       Saint_Bernard\n",
              "4  /content/gdrive/My Drive/Dogs/Images/n02096177...               cairn"
            ]
          },
          "metadata": {
            "tags": []
          },
          "execution_count": 13
        }
      ]
    },
    {
      "cell_type": "markdown",
      "metadata": {
        "id": "I_R7Lneho-eG",
        "colab_type": "text"
      },
      "source": [
        "<h2> Récupération de l'architecture entrainée et fine-tuning </h2>"
      ]
    },
    {
      "cell_type": "code",
      "metadata": {
        "id": "a6FCSldfp15z",
        "colab_type": "code",
        "colab": {}
      },
      "source": [
        "from keras import applications\n",
        "from keras.regularizers import l2"
      ],
      "execution_count": 0,
      "outputs": []
    },
    {
      "cell_type": "code",
      "metadata": {
        "id": "IkyPY7-Yo-IM",
        "colab_type": "code",
        "colab": {}
      },
      "source": [
        "#vgg = applications.VGG16(weights='imagenet', include_top=False, input_shape=(150, 150, 3))\n",
        "xcp = applications.xception.Xception(weights='imagenet', include_top=False)\n"
      ],
      "execution_count": 0,
      "outputs": []
    },
    {
      "cell_type": "code",
      "metadata": {
        "id": "Aco0ei3AqCDV",
        "colab_type": "code",
        "colab": {}
      },
      "source": [
        "# Create the model\n",
        "model = Sequential()\n",
        " \n",
        "# Add the vgg convolutional base model\n",
        "model.add(xcp)\n",
        " \n",
        "# Add new layers\n",
        "model.add(BatchNormalization())\n",
        "model.add(GlobalAveragePooling2D())\n",
        "model.add(Dropout(rate = 0.5))\n",
        "model.add(Dense(1024, activation='relu'))\n",
        "model.add(Dropout(rate = 0.5))\n",
        "model.add(Dense(120, activation='softmax'))"
      ],
      "execution_count": 0,
      "outputs": []
    },
    {
      "cell_type": "code",
      "metadata": {
        "id": "WwutvEuTqDTa",
        "colab_type": "code",
        "colab": {}
      },
      "source": [
        "for layer in xcp.layers:\n",
        "    layer.trainable = False"
      ],
      "execution_count": 0,
      "outputs": []
    },
    {
      "cell_type": "code",
      "metadata": {
        "id": "Da4RA-zas5s8",
        "colab_type": "code",
        "outputId": "3c5d8a78-e6f9-4aa1-adfc-d9924e1d3317",
        "colab": {
          "base_uri": "https://localhost:8080/",
          "height": 2261
        }
      },
      "source": [
        "for layer in xcp.layers:\n",
        "    print(layer, layer.trainable)"
      ],
      "execution_count": 0,
      "outputs": [
        {
          "output_type": "stream",
          "text": [
            "<keras.engine.input_layer.InputLayer object at 0x7fa3d6b7a9b0> False\n",
            "<keras.layers.convolutional.Conv2D object at 0x7fa3d6b7aeb8> False\n",
            "<keras.layers.normalization.BatchNormalization object at 0x7fa3d6ba1c50> False\n",
            "<keras.layers.core.Activation object at 0x7fa3d6b7ad68> False\n",
            "<keras.layers.convolutional.Conv2D object at 0x7fa3d6b48c18> False\n",
            "<keras.layers.normalization.BatchNormalization object at 0x7fa3e2eea9b0> False\n",
            "<keras.layers.core.Activation object at 0x7fa3e2e868d0> False\n",
            "<keras.layers.convolutional.SeparableConv2D object at 0x7fa3e2d9bf60> False\n",
            "<keras.layers.normalization.BatchNormalization object at 0x7fa3e2d35c50> False\n",
            "<keras.layers.core.Activation object at 0x7fa3e2c5a6d8> False\n",
            "<keras.layers.convolutional.SeparableConv2D object at 0x7fa3e2c1eb70> False\n",
            "<keras.layers.normalization.BatchNormalization object at 0x7fa3e2bf0a20> False\n",
            "<keras.layers.convolutional.Conv2D object at 0x7fa3e2e196a0> False\n",
            "<keras.layers.pooling.MaxPooling2D object at 0x7fa3e2b5bf60> False\n",
            "<keras.layers.normalization.BatchNormalization object at 0x7fa3e2d8e320> False\n",
            "<keras.layers.merge.Add object at 0x7fa3e2b1efd0> False\n",
            "<keras.layers.core.Activation object at 0x7fa3e2a1e550> False\n",
            "<keras.layers.convolutional.SeparableConv2D object at 0x7fa3e2a1efd0> False\n",
            "<keras.layers.normalization.BatchNormalization object at 0x7fa3e29904a8> False\n",
            "<keras.layers.core.Activation object at 0x7fa3e297b978> False\n",
            "<keras.layers.convolutional.SeparableConv2D object at 0x7fa3e28c2a90> False\n",
            "<keras.layers.normalization.BatchNormalization object at 0x7fa3e28ebd30> False\n",
            "<keras.layers.convolutional.Conv2D object at 0x7fa3e2abac50> False\n",
            "<keras.layers.pooling.MaxPooling2D object at 0x7fa3e281efd0> False\n",
            "<keras.layers.normalization.BatchNormalization object at 0x7fa3e2a1e4e0> False\n",
            "<keras.layers.merge.Add object at 0x7fa3e278a0f0> False\n",
            "<keras.layers.core.Activation object at 0x7fa3d6ae9668> False\n",
            "<keras.layers.convolutional.SeparableConv2D object at 0x7fa3d6a37390> False\n",
            "<keras.layers.normalization.BatchNormalization object at 0x7fa3d6a58fd0> False\n",
            "<keras.layers.core.Activation object at 0x7fa3d6988e48> False\n",
            "<keras.layers.convolutional.SeparableConv2D object at 0x7fa3d69e7b70> False\n",
            "<keras.layers.normalization.BatchNormalization object at 0x7fa3d68f7400> False\n",
            "<keras.layers.convolutional.Conv2D object at 0x7fa3e283f0f0> False\n",
            "<keras.layers.pooling.MaxPooling2D object at 0x7fa3d68e1898> False\n",
            "<keras.layers.normalization.BatchNormalization object at 0x7fa3d6ae9390> False\n",
            "<keras.layers.merge.Add object at 0x7fa3d688e400> False\n",
            "<keras.layers.core.Activation object at 0x7fa3d67f4da0> False\n",
            "<keras.layers.convolutional.SeparableConv2D object at 0x7fa3d6854630> False\n",
            "<keras.layers.normalization.BatchNormalization object at 0x7fa3b1331898> False\n",
            "<keras.layers.core.Activation object at 0x7fa3b12ebf98> False\n",
            "<keras.layers.convolutional.SeparableConv2D object at 0x7fa3b12b8d68> False\n",
            "<keras.layers.normalization.BatchNormalization object at 0x7fa3b1319c88> False\n",
            "<keras.layers.core.Activation object at 0x7fa3b124df28> False\n",
            "<keras.layers.convolutional.SeparableConv2D object at 0x7fa3b1207a20> False\n",
            "<keras.layers.normalization.BatchNormalization object at 0x7fa3b11d7908> False\n",
            "<keras.layers.merge.Add object at 0x7fa3b1145dd8> False\n",
            "<keras.layers.core.Activation object at 0x7fa3d6812da0> False\n",
            "<keras.layers.convolutional.SeparableConv2D object at 0x7fa3b10eaac8> False\n",
            "<keras.layers.normalization.BatchNormalization object at 0x7fa3b1078ba8> False\n",
            "<keras.layers.core.Activation object at 0x7fa3b0fa9b70> False\n",
            "<keras.layers.convolutional.SeparableConv2D object at 0x7fa3b0f70fd0> False\n",
            "<keras.layers.normalization.BatchNormalization object at 0x7fa3b0fd5e10> False\n",
            "<keras.layers.core.Activation object at 0x7fa3b0efef98> False\n",
            "<keras.layers.convolutional.SeparableConv2D object at 0x7fa3b0ec1c18> False\n",
            "<keras.layers.normalization.BatchNormalization object at 0x7fa3b0e93860> False\n",
            "<keras.layers.merge.Add object at 0x7fa3b0da3ac8> False\n",
            "<keras.layers.core.Activation object at 0x7fa3b1106ef0> False\n",
            "<keras.layers.convolutional.SeparableConv2D object at 0x7fa3b0cdcf28> False\n",
            "<keras.layers.normalization.BatchNormalization object at 0x7fa3b0d4e2b0> False\n",
            "<keras.layers.core.Activation object at 0x7fa3b0cbe828> False\n",
            "<keras.layers.convolutional.SeparableConv2D object at 0x7fa3b0c605f8> False\n",
            "<keras.layers.normalization.BatchNormalization object at 0x7fa3b0c902e8> False\n",
            "<keras.layers.core.Activation object at 0x7fa3b0bb8390> False\n",
            "<keras.layers.convolutional.SeparableConv2D object at 0x7fa3b0b7bdd8> False\n",
            "<keras.layers.normalization.BatchNormalization object at 0x7fa3b0329a58> False\n",
            "<keras.layers.merge.Add object at 0x7fa3b025af98> False\n",
            "<keras.layers.core.Activation object at 0x7fa3b0dbff60> False\n",
            "<keras.layers.convolutional.SeparableConv2D object at 0x7fa3b01ba748> False\n",
            "<keras.layers.normalization.BatchNormalization object at 0x7fa3b0201470> False\n",
            "<keras.layers.core.Activation object at 0x7fa3b01769b0> False\n",
            "<keras.layers.convolutional.SeparableConv2D object at 0x7fa3b0198780> False\n",
            "<keras.layers.normalization.BatchNormalization object at 0x7fa3b01003c8> False\n",
            "<keras.layers.core.Activation object at 0x7fa3b006b550> False\n",
            "<keras.layers.convolutional.SeparableConv2D object at 0x7fa3b0033f98> False\n",
            "<keras.layers.normalization.BatchNormalization object at 0x7fa3affe1c88> False\n",
            "<keras.layers.merge.Add object at 0x7fa3aff93ef0> False\n",
            "<keras.layers.core.Activation object at 0x7fa3b02910f0> False\n",
            "<keras.layers.convolutional.SeparableConv2D object at 0x7fa3afe745f8> False\n",
            "<keras.layers.normalization.BatchNormalization object at 0x7fa3afebb630> False\n",
            "<keras.layers.core.Activation object at 0x7fa3afe34ba8> False\n",
            "<keras.layers.convolutional.SeparableConv2D object at 0x7fa3afe50390> False\n",
            "<keras.layers.normalization.BatchNormalization object at 0x7fa3afdc0588> False\n",
            "<keras.layers.core.Activation object at 0x7fa3afd2aa58> False\n",
            "<keras.layers.convolutional.SeparableConv2D object at 0x7fa3afcf0b70> False\n",
            "<keras.layers.normalization.BatchNormalization object at 0x7fa3afc9de48> False\n",
            "<keras.layers.merge.Add object at 0x7fa3afc48cc0> False\n",
            "<keras.layers.core.Activation object at 0x7fa3aff32048> False\n",
            "<keras.layers.convolutional.SeparableConv2D object at 0x7fa3afb5cac8> False\n",
            "<keras.layers.normalization.BatchNormalization object at 0x7fa3afb782b0> False\n",
            "<keras.layers.core.Activation object at 0x7fa3aeaeccf8> False\n",
            "<keras.layers.convolutional.SeparableConv2D object at 0x7fa3afbf01d0> False\n",
            "<keras.layers.normalization.BatchNormalization object at 0x7fa3aea73748> False\n",
            "<keras.layers.core.Activation object at 0x7fa3ae9e1c18> False\n",
            "<keras.layers.convolutional.SeparableConv2D object at 0x7fa3ae9a6d30> False\n",
            "<keras.layers.normalization.BatchNormalization object at 0x7fa3ae956550> False\n",
            "<keras.layers.merge.Add object at 0x7fa3ae8ff390> False\n",
            "<keras.layers.core.Activation object at 0x7fa3afbf0080> False\n",
            "<keras.layers.convolutional.SeparableConv2D object at 0x7fa3ae8a84e0> False\n",
            "<keras.layers.normalization.BatchNormalization object at 0x7fa3ae82da20> False\n",
            "<keras.layers.core.Activation object at 0x7fa3ae7a2eb8> False\n",
            "<keras.layers.convolutional.SeparableConv2D object at 0x7fa3ae761a58> False\n",
            "<keras.layers.normalization.BatchNormalization object at 0x7fa3ae730908> False\n",
            "<keras.layers.core.Activation object at 0x7fa3ae699dd8> False\n",
            "<keras.layers.convolutional.SeparableConv2D object at 0x7fa3ada9a5c0> False\n",
            "<keras.layers.normalization.BatchNormalization object at 0x7fa3ae691710> False\n",
            "<keras.layers.merge.Add object at 0x7fa3adb47668> False\n",
            "<keras.layers.core.Activation object at 0x7fa3ae8a8208> False\n",
            "<keras.layers.convolutional.SeparableConv2D object at 0x7fa3ada0d630> False\n",
            "<keras.layers.normalization.BatchNormalization object at 0x7fa3ad9ef320> False\n",
            "<keras.layers.core.Activation object at 0x7fa3ada535c0> False\n",
            "<keras.layers.convolutional.SeparableConv2D object at 0x7fa3b764e2b0> False\n",
            "<keras.layers.normalization.BatchNormalization object at 0x7fa3ae477cc0> False\n",
            "<keras.layers.core.Activation object at 0x7fa3ae3a8f60> False\n",
            "<keras.layers.convolutional.SeparableConv2D object at 0x7fa3ae363b70> False\n",
            "<keras.layers.normalization.BatchNormalization object at 0x7fa3ae3957f0> False\n",
            "<keras.layers.merge.Add object at 0x7fa3ae2c7ac8> False\n",
            "<keras.layers.core.Activation object at 0x7fa3ae200fd0> False\n",
            "<keras.layers.convolutional.SeparableConv2D object at 0x7fa3ae180438> False\n",
            "<keras.layers.normalization.BatchNormalization object at 0x7fa3ae150390> False\n",
            "<keras.layers.core.Activation object at 0x7fa3ae0bee10> False\n",
            "<keras.layers.convolutional.SeparableConv2D object at 0x7fa3ae083e80> False\n",
            "<keras.layers.normalization.BatchNormalization object at 0x7fa3adff0438> False\n",
            "<keras.layers.convolutional.Conv2D object at 0x7fa3ae262978> False\n",
            "<keras.layers.pooling.MaxPooling2D object at 0x7fa3adf5bb38> False\n",
            "<keras.layers.normalization.BatchNormalization object at 0x7fa3ae1bbba8> False\n",
            "<keras.layers.merge.Add object at 0x7fa3adf884a8> False\n",
            "<keras.layers.convolutional.SeparableConv2D object at 0x7fa3adeebf98> False\n",
            "<keras.layers.normalization.BatchNormalization object at 0x7fa3ade1b5c0> False\n",
            "<keras.layers.core.Activation object at 0x7fa3ade1b630> False\n",
            "<keras.layers.convolutional.SeparableConv2D object at 0x7fa3ade3c128> False\n",
            "<keras.layers.normalization.BatchNormalization object at 0x7fa3adda3438> False\n",
            "<keras.layers.core.Activation object at 0x7fa3add32a20> False\n"
          ],
          "name": "stdout"
        }
      ]
    },
    {
      "cell_type": "code",
      "metadata": {
        "id": "F_Wsrt1lvvIG",
        "colab_type": "code",
        "outputId": "0fd6b155-1ad0-4216-8423-229c77f69952",
        "colab": {
          "base_uri": "https://localhost:8080/",
          "height": 374
        }
      },
      "source": [
        "model.summary()"
      ],
      "execution_count": 0,
      "outputs": [
        {
          "output_type": "stream",
          "text": [
            "_________________________________________________________________\n",
            "Layer (type)                 Output Shape              Param #   \n",
            "=================================================================\n",
            "xception (Model)             (None, None, None, 2048)  20861480  \n",
            "_________________________________________________________________\n",
            "batch_normalization_9 (Batch (None, None, None, 2048)  8192      \n",
            "_________________________________________________________________\n",
            "global_average_pooling2d_1 ( (None, 2048)              0         \n",
            "_________________________________________________________________\n",
            "dropout_3 (Dropout)          (None, 2048)              0         \n",
            "_________________________________________________________________\n",
            "dense_7 (Dense)              (None, 1024)              2098176   \n",
            "_________________________________________________________________\n",
            "dropout_4 (Dropout)          (None, 1024)              0         \n",
            "_________________________________________________________________\n",
            "dense_8 (Dense)              (None, 120)               123000    \n",
            "=================================================================\n",
            "Total params: 23,090,848\n",
            "Trainable params: 2,225,272\n",
            "Non-trainable params: 20,865,576\n",
            "_________________________________________________________________\n"
          ],
          "name": "stdout"
        }
      ]
    },
    {
      "cell_type": "markdown",
      "metadata": {
        "id": "6-NHeHKwZmP6",
        "colab_type": "text"
      },
      "source": [
        "<h2> Data Augmentation sur les split set </h2>"
      ]
    },
    {
      "cell_type": "code",
      "metadata": {
        "id": "ReNNKuEzdjsv",
        "colab_type": "code",
        "colab": {}
      },
      "source": [
        "train_batch_size = 32\n",
        "val_batch_size = 16\n",
        "img_width, img_height = 299, 299"
      ],
      "execution_count": 0,
      "outputs": []
    },
    {
      "cell_type": "code",
      "metadata": {
        "id": "CLxIfBhibwAZ",
        "colab_type": "code",
        "colab": {}
      },
      "source": [
        "train_datagen = ImageDataGenerator(\n",
        "    rotation_range=40,\n",
        "    rescale=1. / 255,\n",
        "    shear_range=0.2,\n",
        "    zoom_range=0.2,\n",
        "    horizontal_flip=True,\n",
        "    fill_mode='nearest')"
      ],
      "execution_count": 0,
      "outputs": []
    },
    {
      "cell_type": "code",
      "metadata": {
        "id": "77mt10BBdGVz",
        "colab_type": "code",
        "colab": {}
      },
      "source": [
        "test_datagen = ImageDataGenerator(rescale=1. / 255)"
      ],
      "execution_count": 0,
      "outputs": []
    },
    {
      "cell_type": "code",
      "metadata": {
        "id": "o7F9cNKLdZJc",
        "colab_type": "code",
        "outputId": "e12d70d9-c723-4f25-d45b-43ade41befad",
        "colab": {
          "base_uri": "https://localhost:8080/",
          "height": 34
        }
      },
      "source": [
        "train_generator = train_datagen.flow_from_dataframe(\n",
        "    dataframe=train_df,\n",
        "    x_col =\"path\",\n",
        "    y_col =\"label\",\n",
        "    target_size=(img_height, img_width),\n",
        "    color_mode='rgb',\n",
        "    batch_size=train_batch_size,\n",
        "    class_mode='categorical')"
      ],
      "execution_count": 0,
      "outputs": [
        {
          "output_type": "stream",
          "text": [
            "Found 12348 validated image filenames belonging to 120 classes.\n"
          ],
          "name": "stdout"
        }
      ]
    },
    {
      "cell_type": "code",
      "metadata": {
        "id": "QvGTJHl-dqw6",
        "colab_type": "code",
        "outputId": "4406e80b-47f4-45b9-d008-276be0a43649",
        "colab": {
          "base_uri": "https://localhost:8080/",
          "height": 34
        }
      },
      "source": [
        "validation_generator = test_datagen.flow_from_dataframe(\n",
        "    dataframe=val_df,\n",
        "    x_col =\"path\",\n",
        "    y_col =\"label\",\n",
        "    target_size=(img_height, img_width),\n",
        "    color_mode='rgb',\n",
        "    batch_size=val_batch_size,\n",
        "    class_mode='categorical')"
      ],
      "execution_count": 0,
      "outputs": [
        {
          "output_type": "stream",
          "text": [
            "Found 4116 validated image filenames belonging to 120 classes.\n"
          ],
          "name": "stdout"
        }
      ]
    },
    {
      "cell_type": "code",
      "metadata": {
        "id": "Ko202MNv-fJ2",
        "colab_type": "code",
        "outputId": "6f23851d-a86e-48bd-a381-f8173e7e1f42",
        "colab": {
          "base_uri": "https://localhost:8080/",
          "height": 34
        }
      },
      "source": [
        "test_generator = test_datagen.flow_from_dataframe(\n",
        "    dataframe=test_df,\n",
        "    x_col =\"path\",\n",
        "    y_col =\"label\",\n",
        "    target_size=(img_height, img_width),\n",
        "    color_mode='rgb',\n",
        "    batch_size=1,\n",
        "    class_mode='categorical',\n",
        "    shuffle=False)"
      ],
      "execution_count": 0,
      "outputs": [
        {
          "output_type": "stream",
          "text": [
            "Found 4116 validated image filenames belonging to 120 classes.\n"
          ],
          "name": "stdout"
        }
      ]
    },
    {
      "cell_type": "markdown",
      "metadata": {
        "id": "-KwPJNh6xYAN",
        "colab_type": "text"
      },
      "source": [
        "<h2> Model Training </h2>"
      ]
    },
    {
      "cell_type": "code",
      "metadata": {
        "id": "wRhIHkfnxaUb",
        "colab_type": "code",
        "colab": {}
      },
      "source": [
        "import datetime\n",
        "from keras.callbacks import EarlyStopping, ModelCheckpoint\n",
        " \n",
        "#epochs = 1\n",
        "#learning_rate = 0.001\n",
        " \n",
        "# checkpoints\n",
        "early_stopping = EarlyStopping(monitor='val_acc', patience=5)\n",
        "STAMP = \"{}_dog_breed_model\".format(datetime.date.today().strftime(\"%Y-%m-%d\"))\n",
        " \n",
        "bst_model_path = \"{}.h5\".format(STAMP)\n",
        "model_checkpoint = ModelCheckpoint(bst_model_path,\n",
        "save_best_only=True,\n",
        "save_weights_only=False,\n",
        "verbose=1)"
      ],
      "execution_count": 0,
      "outputs": []
    },
    {
      "cell_type": "code",
      "metadata": {
        "id": "dDOC06bxySAM",
        "colab_type": "code",
        "colab": {}
      },
      "source": [
        "from keras import optimizers"
      ],
      "execution_count": 0,
      "outputs": []
    },
    {
      "cell_type": "code",
      "metadata": {
        "id": "a9vjSKqox2cZ",
        "colab_type": "code",
        "colab": {}
      },
      "source": [
        "model.compile(loss='categorical_crossentropy',\n",
        "               optimizer=optimizers.Adam(lr=0.001), metrics=[\"accuracy\"])"
      ],
      "execution_count": 0,
      "outputs": []
    },
    {
      "cell_type": "code",
      "metadata": {
        "id": "l8gEF6UJdvGu",
        "colab_type": "code",
        "outputId": "117b4bd8-04e4-41dc-a0b1-897d4774d84b",
        "colab": {
          "base_uri": "https://localhost:8080/",
          "height": 442
        }
      },
      "source": [
        "# fine-tune the model\n",
        "model.fit_generator(\n",
        "    train_generator,\n",
        "    steps_per_epoch=train_generator.samples // train_generator.batch_size,\n",
        "    epochs=10,\n",
        "    validation_data=validation_generator,\n",
        "    callbacks=[early_stopping, model_checkpoint],\n",
        "    validation_steps=validation_generator.batch_size // validation_generator.batch_size)"
      ],
      "execution_count": 0,
      "outputs": [
        {
          "output_type": "stream",
          "text": [
            "Epoch 1/10\n",
            "385/385 [==============================] - 389s 1s/step - loss: 1.4561 - acc: 0.6410 - val_loss: 0.1184 - val_acc: 0.9375\n",
            "\n",
            "Epoch 00001: val_loss improved from inf to 0.11843, saving model to 2019-05-23_dog_breed_model.h5\n",
            "Epoch 2/10\n",
            "385/385 [==============================] - 367s 954ms/step - loss: 1.0883 - acc: 0.7229 - val_loss: 1.6733 - val_acc: 0.6250\n",
            "\n",
            "Epoch 00002: val_loss did not improve from 0.11843\n",
            "Epoch 3/10\n",
            "385/385 [==============================] - 375s 974ms/step - loss: 1.0024 - acc: 0.7365 - val_loss: 0.5508 - val_acc: 0.8125\n",
            "\n",
            "Epoch 00003: val_loss did not improve from 0.11843\n",
            "Epoch 4/10\n",
            "385/385 [==============================] - 374s 971ms/step - loss: 0.9074 - acc: 0.7552 - val_loss: 0.0962 - val_acc: 0.9375\n",
            "\n",
            "Epoch 00004: val_loss improved from 0.11843 to 0.09616, saving model to 2019-05-23_dog_breed_model.h5\n",
            "Epoch 5/10\n",
            "385/385 [==============================] - 374s 971ms/step - loss: 0.8541 - acc: 0.7657 - val_loss: 0.5165 - val_acc: 0.7500\n",
            "\n",
            "Epoch 00005: val_loss did not improve from 0.09616\n",
            "Epoch 6/10\n",
            "385/385 [==============================] - 382s 993ms/step - loss: 0.8293 - acc: 0.7698 - val_loss: 1.0337 - val_acc: 0.8125\n",
            "\n",
            "Epoch 00006: val_loss did not improve from 0.09616\n"
          ],
          "name": "stdout"
        },
        {
          "output_type": "execute_result",
          "data": {
            "text/plain": [
              "<keras.callbacks.History at 0x7fa3947d88d0>"
            ]
          },
          "metadata": {
            "tags": []
          },
          "execution_count": 157
        }
      ]
    },
    {
      "cell_type": "markdown",
      "metadata": {
        "id": "tlZlMzATCEb4",
        "colab_type": "text"
      },
      "source": [
        "<h3> Save model </h3>"
      ]
    },
    {
      "cell_type": "code",
      "metadata": {
        "id": "-KfX3kqDB1A5",
        "colab_type": "code",
        "colab": {}
      },
      "source": [
        "model.save('/content/gdrive/My Drive/Dogs/dogs_cnn.h5')"
      ],
      "execution_count": 0,
      "outputs": []
    },
    {
      "cell_type": "markdown",
      "metadata": {
        "id": "egdO9Om_CGgO",
        "colab_type": "text"
      },
      "source": [
        "<h3> Load model </h3>"
      ]
    },
    {
      "cell_type": "code",
      "metadata": {
        "id": "TSVN3CiCCI1t",
        "colab_type": "code",
        "outputId": "b06f4164-1c7c-4a62-d1a2-bc6aa56113d7",
        "colab": {
          "base_uri": "https://localhost:8080/",
          "height": 190
        }
      },
      "source": [
        "model = load_model('/content/gdrive/My Drive/Dogs/dogs_cnn.h5')"
      ],
      "execution_count": 0,
      "outputs": [
        {
          "output_type": "stream",
          "text": [
            "WARNING:tensorflow:From /usr/local/lib/python3.6/dist-packages/tensorflow/python/framework/op_def_library.py:263: colocate_with (from tensorflow.python.framework.ops) is deprecated and will be removed in a future version.\n",
            "Instructions for updating:\n",
            "Colocations handled automatically by placer.\n",
            "WARNING:tensorflow:From /usr/local/lib/python3.6/dist-packages/keras/backend/tensorflow_backend.py:3445: calling dropout (from tensorflow.python.ops.nn_ops) with keep_prob is deprecated and will be removed in a future version.\n",
            "Instructions for updating:\n",
            "Please use `rate` instead of `keep_prob`. Rate should be set to `rate = 1 - keep_prob`.\n",
            "WARNING:tensorflow:From /usr/local/lib/python3.6/dist-packages/tensorflow/python/ops/math_ops.py:3066: to_int32 (from tensorflow.python.ops.math_ops) is deprecated and will be removed in a future version.\n",
            "Instructions for updating:\n",
            "Use tf.cast instead.\n"
          ],
          "name": "stdout"
        }
      ]
    },
    {
      "cell_type": "markdown",
      "metadata": {
        "id": "rloxyxNwn2YJ",
        "colab_type": "text"
      },
      "source": [
        "<h2> Prédiction <h2>"
      ]
    },
    {
      "cell_type": "code",
      "metadata": {
        "id": "_c7myIb4oQsN",
        "colab_type": "code",
        "colab": {}
      },
      "source": [
        "from keras.models import load_model\n",
        "from keras.preprocessing import image"
      ],
      "execution_count": 0,
      "outputs": []
    },
    {
      "cell_type": "code",
      "metadata": {
        "id": "qPN-IXuPq8Ox",
        "colab_type": "code",
        "colab": {}
      },
      "source": [
        "label_map = (train_generator.class_indices)"
      ],
      "execution_count": 0,
      "outputs": []
    },
    {
      "cell_type": "markdown",
      "metadata": {
        "id": "T56gzijnOom8",
        "colab_type": "text"
      },
      "source": [
        "<h3> Serialize my labels for using in a portative script </h3>"
      ]
    },
    {
      "cell_type": "code",
      "metadata": {
        "id": "d1Qq1wcZOt9f",
        "colab_type": "code",
        "colab": {}
      },
      "source": [
        "import pickle\n",
        "\n",
        "pickle.dump(label_map, open('/content/gdrive/My Drive/Dogs/labels.pkl','wb'))"
      ],
      "execution_count": 0,
      "outputs": []
    },
    {
      "cell_type": "markdown",
      "metadata": {
        "id": "_iSJUdOOOvC8",
        "colab_type": "text"
      },
      "source": [
        "<h3> Script </h3>"
      ]
    },
    {
      "cell_type": "code",
      "metadata": {
        "id": "15AuAf9p_oBb",
        "colab_type": "code",
        "colab": {}
      },
      "source": [
        "inverted_lab = dict([[v,k] for k,v in label_map.items()])\n"
      ],
      "execution_count": 0,
      "outputs": []
    },
    {
      "cell_type": "code",
      "metadata": {
        "id": "jku4o6HXpi7v",
        "colab_type": "code",
        "colab": {}
      },
      "source": [
        "def predict_from_image(img_path):\n",
        "    img = image.load_img(img_path, target_size=(299, 299))\n",
        "    img_tensor = image.img_to_array(img) # (height, width, channels)\n",
        "    img_tensor = np.expand_dims(img_tensor, axis=0) # (1, height, width, channels), add a dimension because the model expects this shape: (batch_size, height, width, channels)\n",
        "    img_tensor /= 255.\n",
        " \n",
        "    pred = model.predict(img_tensor)\n",
        "    predicted_class = inverted_lab[np.argmax(pred)]\n",
        " \n",
        "    return predicted_class"
      ],
      "execution_count": 0,
      "outputs": []
    },
    {
      "cell_type": "code",
      "metadata": {
        "id": "0OQ3lCdjqQDo",
        "colab_type": "code",
        "outputId": "665658d8-bacf-4fba-a1f6-c326b1de607f",
        "colab": {
          "base_uri": "https://localhost:8080/",
          "height": 34
        }
      },
      "source": [
        "predict_from_image(\"/content/gdrive/My Drive/Dogs/Test/kikou.jpg\")"
      ],
      "execution_count": 0,
      "outputs": [
        {
          "output_type": "execute_result",
          "data": {
            "text/plain": [
              "'Labrador_retriever'"
            ]
          },
          "metadata": {
            "tags": []
          },
          "execution_count": 46
        }
      ]
    },
    {
      "cell_type": "code",
      "metadata": {
        "id": "b7MlNE0cJr5_",
        "colab_type": "code",
        "colab": {}
      },
      "source": [
        "label_map"
      ],
      "execution_count": 0,
      "outputs": []
    },
    {
      "cell_type": "markdown",
      "metadata": {
        "id": "Cuos9ouC-1aI",
        "colab_type": "text"
      },
      "source": [
        "<h3> Test set prediction </h3>"
      ]
    },
    {
      "cell_type": "code",
      "metadata": {
        "id": "kaC4t-hL-60s",
        "colab_type": "code",
        "outputId": "3d964373-1cb6-4de7-d76d-6e6a177479e8",
        "colab": {
          "base_uri": "https://localhost:8080/",
          "height": 34
        }
      },
      "source": [
        "prediction = model.predict_generator(test_generator, \n",
        "                                     steps=len(test_generator), \n",
        "                                     max_queue_size=10, \n",
        "                                     workers=1, \n",
        "                                     use_multiprocessing=False, \n",
        "                                     verbose=1)"
      ],
      "execution_count": 0,
      "outputs": [
        {
          "output_type": "stream",
          "text": [
            "4116/4116 [==============================] - 54s 13ms/step\n"
          ],
          "name": "stdout"
        }
      ]
    },
    {
      "cell_type": "code",
      "metadata": {
        "id": "T9JwjPvIGQxE",
        "colab_type": "code",
        "outputId": "c8cfcad8-14cd-43e8-835c-d675d1404568",
        "colab": {
          "base_uri": "https://localhost:8080/",
          "height": 34
        }
      },
      "source": [
        "prediction.shape"
      ],
      "execution_count": 0,
      "outputs": [
        {
          "output_type": "execute_result",
          "data": {
            "text/plain": [
              "(4116, 120)"
            ]
          },
          "metadata": {
            "tags": []
          },
          "execution_count": 49
        }
      ]
    },
    {
      "cell_type": "code",
      "metadata": {
        "id": "K6Jp6fAeHaUZ",
        "colab_type": "code",
        "outputId": "d7c96acd-62f0-45c5-cd63-9a6846859c4a",
        "colab": {
          "base_uri": "https://localhost:8080/",
          "height": 34
        }
      },
      "source": [
        "np.argmax(prediction[6])"
      ],
      "execution_count": 0,
      "outputs": [
        {
          "output_type": "execute_result",
          "data": {
            "text/plain": [
              "109"
            ]
          },
          "metadata": {
            "tags": []
          },
          "execution_count": 46
        }
      ]
    },
    {
      "cell_type": "code",
      "metadata": {
        "id": "BWa_R03ZKCUj",
        "colab_type": "code",
        "colab": {}
      },
      "source": [
        "y_true = test_generator.classes"
      ],
      "execution_count": 0,
      "outputs": []
    },
    {
      "cell_type": "code",
      "metadata": {
        "id": "gCyH3S5AMTno",
        "colab_type": "code",
        "outputId": "6ae0217e-067f-4c14-c584-f071f5c19e71",
        "colab": {
          "base_uri": "https://localhost:8080/",
          "height": 34
        }
      },
      "source": [
        "total = 0\n",
        "for i in range(len(y_true)):\n",
        "    \n",
        "    if y_true[i]==np.argmax(prediction[i]):\n",
        "        total+=1\n",
        "        \n",
        "print(\"Pourcentage de réussite sur un test set inconnu au modèle: \",np.round(total/len(y_true)*100),\"%\")"
      ],
      "execution_count": 0,
      "outputs": [
        {
          "output_type": "stream",
          "text": [
            "Pourcentage de réussite sur un test set inconnu au modèle:  85.0 %\n"
          ],
          "name": "stdout"
        }
      ]
    },
    {
      "cell_type": "markdown",
      "metadata": {
        "id": "jK2mzzKMomQs",
        "colab_type": "text"
      },
      "source": [
        ""
      ]
    }
  ]
}